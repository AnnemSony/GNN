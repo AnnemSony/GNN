{
  "cells": [
    {
      "cell_type": "code",
      "source": [
        "# install StellarGraph if running on Google Colab\n",
        "import sys\n",
        "if 'google.colab' in sys.modules:\n",
        "  %pip install -q stellargraph[demos]==1.2."
      ],
      "metadata": {
        "id": "e1hVNhuEr41s"
      },
      "execution_count": 45,
      "outputs": []
    },
    {
      "cell_type": "code",
      "source": [
        "a1=np.loadtxt('/content/002_S_1280_I829304 (1)')\n",
        "a2=np.loadtxt('/content/002_S_1155_I843517 (1)')\n",
        "a3=np.loadtxt('/content/002_S_1155_I995512 (1)')\n",
        "a4=np.loadtxt('/content/002_S_1261_I989328 (1)')\n",
        "a5=np.loadtxt('/content/002_S_1280_I829304 (1)')\n"
      ],
      "metadata": {
        "id": "UQUTZa0hMqur"
      },
      "execution_count": 77,
      "outputs": []
    },
    {
      "cell_type": "code",
      "source": [
        "from networkx.algorithms.assortativity.pairs import node_attribute_xy\n",
        "import numpy as np\n",
        "import networkx as nx\n",
        "from stellargraph import StellarGraph\n",
        "\n",
        "# Define adjacency matrices for undirected graphs\n",
        "#adj_matrices = [A[0], A[1], A[2], A[3], A[4]]\n",
        "adj_matrices=[a1,a2,a3,a4,a5]\n",
        "graphs = []\n",
        "\n",
        "# Create a StellarGraph object for each adjacency matrix\n",
        "for adj_matrix in adj_matrices:\n",
        "    num_nodes = adj_matrix.shape[0]\n",
        "    # Define nodes as a dictionary of {node ID: attribute dictionary}\n",
        "    nodes = {i: {\"feature\": f\"feature {i}\"} for i in range(num_nodes)}\n",
        "\n",
        "    # Define edges as a list of (source, target, weight) tuples\n",
        "    edges = [(i, j, float(adj_matrix[i, j])) for i in nodes for j in nodes if adj_matrix[i, j] == 1]\n",
        "\n",
        "    # Create a NetworkX graph and add nodes and edges\n",
        "    nx_graph = nx.Graph()\n",
        "    nx_graph.add_nodes_from(nodes)\n",
        "    nx_graph.add_weighted_edges_from(edges)\n",
        "    #print(nx_graph.nodes()) \n",
        "    node_features = {node_id: np.zeros((3,), dtype=np.float32) if adj_matrix[node_id, :].sum() == 0 else np.array([1.0, 1.0, 1.0], dtype=np.float32) for node_id in range(num_nodes)}\n",
        "  \n",
        "    #print(node_features)\n",
        "   # print(nx_graph)\n",
        "    # Convert NetworkX graph to StellarGraph object\n",
        "    nx.set_node_attributes(nx_graph, node_features, \"features\")\n",
        "\n",
        "    \n",
        "    graph = StellarGraph.from_networkx(nx_graph, node_features=\"features\")\n",
        "    #print(graph.node_features())\n",
        "    graphs.append(graph)\n",
        "#print(nx_graph.nodes())    \n"
      ],
      "metadata": {
        "id": "bTj3dW3R5wH3"
      },
      "execution_count": 78,
      "outputs": []
    },
    {
      "cell_type": "code",
      "source": [
        "if np.count_nonzero(A[0]) > 0:\n",
        "    print(\"The adjacency matrix has edges.\")\n",
        "else:\n",
        "    print(\"The adjacency matrix does not have any edges.\")\n"
      ],
      "metadata": {
        "colab": {
          "base_uri": "https://localhost:8080/"
        },
        "id": "unMDg6Z9o-1m",
        "outputId": "046753b7-3afe-49b8-8bc7-51aeed036d7f"
      },
      "execution_count": null,
      "outputs": [
        {
          "output_type": "stream",
          "name": "stdout",
          "text": [
            "The adjacency matrix has edges.\n"
          ]
        }
      ]
    },
    {
      "cell_type": "code",
      "source": [
        "#WITHOUT NODE FEATURES STELLAR GENERATOR IS GETTING ERROR SO I USED EQUAL NUMBER OF NODE FEATURES FOR ALL THE NODES\n",
        "print(graphs[0].node_features())"
      ],
      "metadata": {
        "colab": {
          "base_uri": "https://localhost:8080/"
        },
        "id": "V-VbwWKR494q",
        "outputId": "d404c103-74a5-4777-f71f-6b0b37c4ee10"
      },
      "execution_count": 56,
      "outputs": [
        {
          "output_type": "stream",
          "name": "stdout",
          "text": [
            "[[1. 1. 1.]\n",
            " [1. 1. 1.]\n",
            " [1. 1. 1.]\n",
            " [1. 1. 1.]\n",
            " [1. 1. 1.]\n",
            " [1. 1. 1.]\n",
            " [1. 1. 1.]\n",
            " [1. 1. 1.]\n",
            " [1. 1. 1.]\n",
            " [1. 1. 1.]\n",
            " [1. 1. 1.]\n",
            " [1. 1. 1.]\n",
            " [1. 1. 1.]\n",
            " [1. 1. 1.]\n",
            " [1. 1. 1.]\n",
            " [1. 1. 1.]\n",
            " [1. 1. 1.]\n",
            " [1. 1. 1.]\n",
            " [1. 1. 1.]\n",
            " [1. 1. 1.]\n",
            " [1. 1. 1.]\n",
            " [1. 1. 1.]\n",
            " [1. 1. 1.]\n",
            " [1. 1. 1.]\n",
            " [1. 1. 1.]\n",
            " [1. 1. 1.]\n",
            " [1. 1. 1.]\n",
            " [1. 1. 1.]\n",
            " [1. 1. 1.]\n",
            " [1. 1. 1.]\n",
            " [1. 1. 1.]\n",
            " [1. 1. 1.]\n",
            " [1. 1. 1.]\n",
            " [1. 1. 1.]\n",
            " [1. 1. 1.]\n",
            " [1. 1. 1.]\n",
            " [1. 1. 1.]\n",
            " [1. 1. 1.]\n",
            " [1. 1. 1.]\n",
            " [1. 1. 1.]\n",
            " [1. 1. 1.]\n",
            " [1. 1. 1.]\n",
            " [1. 1. 1.]\n",
            " [1. 1. 1.]\n",
            " [1. 1. 1.]\n",
            " [1. 1. 1.]\n",
            " [1. 1. 1.]\n",
            " [1. 1. 1.]\n",
            " [1. 1. 1.]\n",
            " [1. 1. 1.]\n",
            " [1. 1. 1.]\n",
            " [1. 1. 1.]\n",
            " [1. 1. 1.]\n",
            " [1. 1. 1.]\n",
            " [1. 1. 1.]\n",
            " [1. 1. 1.]\n",
            " [1. 1. 1.]\n",
            " [1. 1. 1.]\n",
            " [1. 1. 1.]\n",
            " [1. 1. 1.]\n",
            " [1. 1. 1.]\n",
            " [1. 1. 1.]\n",
            " [1. 1. 1.]\n",
            " [1. 1. 1.]\n",
            " [1. 1. 1.]\n",
            " [1. 1. 1.]\n",
            " [1. 1. 1.]\n",
            " [1. 1. 1.]\n",
            " [1. 1. 1.]\n",
            " [1. 1. 1.]\n",
            " [1. 1. 1.]\n",
            " [1. 1. 1.]\n",
            " [1. 1. 1.]\n",
            " [1. 1. 1.]\n",
            " [1. 1. 1.]\n",
            " [1. 1. 1.]\n",
            " [1. 1. 1.]\n",
            " [1. 1. 1.]\n",
            " [1. 1. 1.]\n",
            " [1. 1. 1.]\n",
            " [1. 1. 1.]\n",
            " [1. 1. 1.]\n",
            " [1. 1. 1.]\n",
            " [1. 1. 1.]\n",
            " [1. 1. 1.]\n",
            " [1. 1. 1.]\n",
            " [1. 1. 1.]\n",
            " [1. 1. 1.]\n",
            " [1. 1. 1.]\n",
            " [1. 1. 1.]\n",
            " [1. 1. 1.]\n",
            " [1. 1. 1.]\n",
            " [1. 1. 1.]\n",
            " [1. 1. 1.]\n",
            " [1. 1. 1.]\n",
            " [1. 1. 1.]\n",
            " [1. 1. 1.]\n",
            " [1. 1. 1.]\n",
            " [1. 1. 1.]\n",
            " [1. 1. 1.]\n",
            " [1. 1. 1.]\n",
            " [1. 1. 1.]\n",
            " [1. 1. 1.]\n",
            " [1. 1. 1.]\n",
            " [1. 1. 1.]\n",
            " [1. 1. 1.]\n",
            " [1. 1. 1.]\n",
            " [1. 1. 1.]\n",
            " [1. 1. 1.]\n",
            " [1. 1. 1.]\n",
            " [1. 1. 1.]\n",
            " [1. 1. 1.]\n",
            " [1. 1. 1.]\n",
            " [1. 1. 1.]\n",
            " [1. 1. 1.]\n",
            " [1. 1. 1.]\n",
            " [1. 1. 1.]\n",
            " [1. 1. 1.]\n",
            " [1. 1. 1.]\n",
            " [1. 1. 1.]\n",
            " [1. 1. 1.]\n",
            " [1. 1. 1.]\n",
            " [1. 1. 1.]\n",
            " [1. 1. 1.]\n",
            " [1. 1. 1.]\n",
            " [1. 1. 1.]\n",
            " [1. 1. 1.]\n",
            " [1. 1. 1.]\n",
            " [1. 1. 1.]\n",
            " [1. 1. 1.]\n",
            " [1. 1. 1.]\n",
            " [1. 1. 1.]\n",
            " [1. 1. 1.]\n",
            " [1. 1. 1.]\n",
            " [1. 1. 1.]\n",
            " [1. 1. 1.]\n",
            " [1. 1. 1.]\n",
            " [1. 1. 1.]\n",
            " [1. 1. 1.]\n",
            " [1. 1. 1.]\n",
            " [1. 1. 1.]\n",
            " [1. 1. 1.]\n",
            " [1. 1. 1.]\n",
            " [1. 1. 1.]\n",
            " [1. 1. 1.]\n",
            " [1. 1. 1.]\n",
            " [1. 1. 1.]\n",
            " [1. 1. 1.]\n",
            " [1. 1. 1.]\n",
            " [1. 1. 1.]\n",
            " [1. 1. 1.]\n",
            " [1. 1. 1.]\n",
            " [1. 1. 1.]\n",
            " [1. 1. 1.]\n",
            " [1. 1. 1.]\n",
            " [1. 1. 1.]\n",
            " [1. 1. 1.]\n",
            " [1. 1. 1.]\n",
            " [1. 1. 1.]\n",
            " [1. 1. 1.]]\n"
          ]
        }
      ]
    },
    {
      "cell_type": "code",
      "source": [
        "print(graphs[0].info())"
      ],
      "metadata": {
        "colab": {
          "base_uri": "https://localhost:8080/"
        },
        "id": "Wq31ErKCCBud",
        "outputId": "66a78af7-15fe-4964-c7ce-6c49f02c6b96"
      },
      "execution_count": 79,
      "outputs": [
        {
          "output_type": "stream",
          "name": "stdout",
          "text": [
            "StellarGraph: Undirected multigraph\n",
            " Nodes: 160, Edges: 984\n",
            "\n",
            " Node types:\n",
            "  default: [160]\n",
            "    Features: float32 vector, length 3\n",
            "    Edge types: default-default->default\n",
            "\n",
            " Edge types:\n",
            "    default-default->default: [984]\n",
            "        Weights: all 1 (default)\n",
            "        Features: none\n"
          ]
        }
      ]
    },
    {
      "cell_type": "code",
      "source": [
        "#print(graph_labels)\n",
        "import pandas as pd\n",
        "graph_labels = pd.Series(graph_labels)\n",
        "label_counts = graph_labels.value_counts()\n",
        "print(type(graph_labels))\n",
        "#print(label_counts)\n"
      ],
      "metadata": {
        "colab": {
          "base_uri": "https://localhost:8080/"
        },
        "id": "U9sZuWXsCB3u",
        "outputId": "3a61aada-357d-4ab3-d514-49b0024ac4bf"
      },
      "execution_count": 58,
      "outputs": [
        {
          "output_type": "stream",
          "name": "stdout",
          "text": [
            "<class 'pandas.core.series.Series'>\n"
          ]
        }
      ]
    },
    {
      "cell_type": "code",
      "source": [
        "import pandas as pd\n",
        "summary = pd.DataFrame(\n",
        "    [(g.number_of_nodes(), g.number_of_edges()) for g in graphs],\n",
        "    columns=[\"nodes\", \"edges\"],\n",
        ")\n",
        "summary.describe().round(1)"
      ],
      "metadata": {
        "colab": {
          "base_uri": "https://localhost:8080/",
          "height": 300
        },
        "id": "aWTTeI8eEC0F",
        "outputId": "350023e0-1f95-4090-8d05-2a8f9b7fc000"
      },
      "execution_count": null,
      "outputs": [
        {
          "output_type": "execute_result",
          "data": {
            "text/plain": [
              "       nodes  edges\n",
              "count    5.0    5.0\n",
              "mean   160.0  729.0\n",
              "std      0.0   64.3\n",
              "min    160.0  650.0\n",
              "25%    160.0  681.0\n",
              "50%    160.0  730.0\n",
              "75%    160.0  787.0\n",
              "max    160.0  797.0"
            ],
            "text/html": [
              "\n",
              "  <div id=\"df-ba02d005-f30d-4b48-977d-37c23322891d\">\n",
              "    <div class=\"colab-df-container\">\n",
              "      <div>\n",
              "<style scoped>\n",
              "    .dataframe tbody tr th:only-of-type {\n",
              "        vertical-align: middle;\n",
              "    }\n",
              "\n",
              "    .dataframe tbody tr th {\n",
              "        vertical-align: top;\n",
              "    }\n",
              "\n",
              "    .dataframe thead th {\n",
              "        text-align: right;\n",
              "    }\n",
              "</style>\n",
              "<table border=\"1\" class=\"dataframe\">\n",
              "  <thead>\n",
              "    <tr style=\"text-align: right;\">\n",
              "      <th></th>\n",
              "      <th>nodes</th>\n",
              "      <th>edges</th>\n",
              "    </tr>\n",
              "  </thead>\n",
              "  <tbody>\n",
              "    <tr>\n",
              "      <th>count</th>\n",
              "      <td>5.0</td>\n",
              "      <td>5.0</td>\n",
              "    </tr>\n",
              "    <tr>\n",
              "      <th>mean</th>\n",
              "      <td>160.0</td>\n",
              "      <td>729.0</td>\n",
              "    </tr>\n",
              "    <tr>\n",
              "      <th>std</th>\n",
              "      <td>0.0</td>\n",
              "      <td>64.3</td>\n",
              "    </tr>\n",
              "    <tr>\n",
              "      <th>min</th>\n",
              "      <td>160.0</td>\n",
              "      <td>650.0</td>\n",
              "    </tr>\n",
              "    <tr>\n",
              "      <th>25%</th>\n",
              "      <td>160.0</td>\n",
              "      <td>681.0</td>\n",
              "    </tr>\n",
              "    <tr>\n",
              "      <th>50%</th>\n",
              "      <td>160.0</td>\n",
              "      <td>730.0</td>\n",
              "    </tr>\n",
              "    <tr>\n",
              "      <th>75%</th>\n",
              "      <td>160.0</td>\n",
              "      <td>787.0</td>\n",
              "    </tr>\n",
              "    <tr>\n",
              "      <th>max</th>\n",
              "      <td>160.0</td>\n",
              "      <td>797.0</td>\n",
              "    </tr>\n",
              "  </tbody>\n",
              "</table>\n",
              "</div>\n",
              "      <button class=\"colab-df-convert\" onclick=\"convertToInteractive('df-ba02d005-f30d-4b48-977d-37c23322891d')\"\n",
              "              title=\"Convert this dataframe to an interactive table.\"\n",
              "              style=\"display:none;\">\n",
              "        \n",
              "  <svg xmlns=\"http://www.w3.org/2000/svg\" height=\"24px\"viewBox=\"0 0 24 24\"\n",
              "       width=\"24px\">\n",
              "    <path d=\"M0 0h24v24H0V0z\" fill=\"none\"/>\n",
              "    <path d=\"M18.56 5.44l.94 2.06.94-2.06 2.06-.94-2.06-.94-.94-2.06-.94 2.06-2.06.94zm-11 1L8.5 8.5l.94-2.06 2.06-.94-2.06-.94L8.5 2.5l-.94 2.06-2.06.94zm10 10l.94 2.06.94-2.06 2.06-.94-2.06-.94-.94-2.06-.94 2.06-2.06.94z\"/><path d=\"M17.41 7.96l-1.37-1.37c-.4-.4-.92-.59-1.43-.59-.52 0-1.04.2-1.43.59L10.3 9.45l-7.72 7.72c-.78.78-.78 2.05 0 2.83L4 21.41c.39.39.9.59 1.41.59.51 0 1.02-.2 1.41-.59l7.78-7.78 2.81-2.81c.8-.78.8-2.07 0-2.86zM5.41 20L4 18.59l7.72-7.72 1.47 1.35L5.41 20z\"/>\n",
              "  </svg>\n",
              "      </button>\n",
              "      \n",
              "  <style>\n",
              "    .colab-df-container {\n",
              "      display:flex;\n",
              "      flex-wrap:wrap;\n",
              "      gap: 12px;\n",
              "    }\n",
              "\n",
              "    .colab-df-convert {\n",
              "      background-color: #E8F0FE;\n",
              "      border: none;\n",
              "      border-radius: 50%;\n",
              "      cursor: pointer;\n",
              "      display: none;\n",
              "      fill: #1967D2;\n",
              "      height: 32px;\n",
              "      padding: 0 0 0 0;\n",
              "      width: 32px;\n",
              "    }\n",
              "\n",
              "    .colab-df-convert:hover {\n",
              "      background-color: #E2EBFA;\n",
              "      box-shadow: 0px 1px 2px rgba(60, 64, 67, 0.3), 0px 1px 3px 1px rgba(60, 64, 67, 0.15);\n",
              "      fill: #174EA6;\n",
              "    }\n",
              "\n",
              "    [theme=dark] .colab-df-convert {\n",
              "      background-color: #3B4455;\n",
              "      fill: #D2E3FC;\n",
              "    }\n",
              "\n",
              "    [theme=dark] .colab-df-convert:hover {\n",
              "      background-color: #434B5C;\n",
              "      box-shadow: 0px 1px 3px 1px rgba(0, 0, 0, 0.15);\n",
              "      filter: drop-shadow(0px 1px 2px rgba(0, 0, 0, 0.3));\n",
              "      fill: #FFFFFF;\n",
              "    }\n",
              "  </style>\n",
              "\n",
              "      <script>\n",
              "        const buttonEl =\n",
              "          document.querySelector('#df-ba02d005-f30d-4b48-977d-37c23322891d button.colab-df-convert');\n",
              "        buttonEl.style.display =\n",
              "          google.colab.kernel.accessAllowed ? 'block' : 'none';\n",
              "\n",
              "        async function convertToInteractive(key) {\n",
              "          const element = document.querySelector('#df-ba02d005-f30d-4b48-977d-37c23322891d');\n",
              "          const dataTable =\n",
              "            await google.colab.kernel.invokeFunction('convertToInteractive',\n",
              "                                                     [key], {});\n",
              "          if (!dataTable) return;\n",
              "\n",
              "          const docLinkHtml = 'Like what you see? Visit the ' +\n",
              "            '<a target=\"_blank\" href=https://colab.research.google.com/notebooks/data_table.ipynb>data table notebook</a>'\n",
              "            + ' to learn more about interactive tables.';\n",
              "          element.innerHTML = '';\n",
              "          dataTable['output_type'] = 'display_data';\n",
              "          await google.colab.output.renderOutput(dataTable, element);\n",
              "          const docLink = document.createElement('div');\n",
              "          docLink.innerHTML = docLinkHtml;\n",
              "          element.appendChild(docLink);\n",
              "        }\n",
              "      </script>\n",
              "    </div>\n",
              "  </div>\n",
              "  "
            ]
          },
          "metadata": {},
          "execution_count": 26
        }
      ]
    },
    {
      "cell_type": "code",
      "source": [
        "graph_labels.value_counts().to_frame()"
      ],
      "metadata": {
        "colab": {
          "base_uri": "https://localhost:8080/",
          "height": 112
        },
        "id": "iPQ5Bh4bEC3t",
        "outputId": "858f1275-c7e3-4981-b9bc-4fc7e9f3fbc0"
      },
      "execution_count": null,
      "outputs": [
        {
          "output_type": "execute_result",
          "data": {
            "text/plain": [
              "   0\n",
              "1  3\n",
              "0  2"
            ],
            "text/html": [
              "\n",
              "  <div id=\"df-3376d7e9-6bc5-4db4-9bad-5bab9399bc22\">\n",
              "    <div class=\"colab-df-container\">\n",
              "      <div>\n",
              "<style scoped>\n",
              "    .dataframe tbody tr th:only-of-type {\n",
              "        vertical-align: middle;\n",
              "    }\n",
              "\n",
              "    .dataframe tbody tr th {\n",
              "        vertical-align: top;\n",
              "    }\n",
              "\n",
              "    .dataframe thead th {\n",
              "        text-align: right;\n",
              "    }\n",
              "</style>\n",
              "<table border=\"1\" class=\"dataframe\">\n",
              "  <thead>\n",
              "    <tr style=\"text-align: right;\">\n",
              "      <th></th>\n",
              "      <th>0</th>\n",
              "    </tr>\n",
              "  </thead>\n",
              "  <tbody>\n",
              "    <tr>\n",
              "      <th>1</th>\n",
              "      <td>3</td>\n",
              "    </tr>\n",
              "    <tr>\n",
              "      <th>0</th>\n",
              "      <td>2</td>\n",
              "    </tr>\n",
              "  </tbody>\n",
              "</table>\n",
              "</div>\n",
              "      <button class=\"colab-df-convert\" onclick=\"convertToInteractive('df-3376d7e9-6bc5-4db4-9bad-5bab9399bc22')\"\n",
              "              title=\"Convert this dataframe to an interactive table.\"\n",
              "              style=\"display:none;\">\n",
              "        \n",
              "  <svg xmlns=\"http://www.w3.org/2000/svg\" height=\"24px\"viewBox=\"0 0 24 24\"\n",
              "       width=\"24px\">\n",
              "    <path d=\"M0 0h24v24H0V0z\" fill=\"none\"/>\n",
              "    <path d=\"M18.56 5.44l.94 2.06.94-2.06 2.06-.94-2.06-.94-.94-2.06-.94 2.06-2.06.94zm-11 1L8.5 8.5l.94-2.06 2.06-.94-2.06-.94L8.5 2.5l-.94 2.06-2.06.94zm10 10l.94 2.06.94-2.06 2.06-.94-2.06-.94-.94-2.06-.94 2.06-2.06.94z\"/><path d=\"M17.41 7.96l-1.37-1.37c-.4-.4-.92-.59-1.43-.59-.52 0-1.04.2-1.43.59L10.3 9.45l-7.72 7.72c-.78.78-.78 2.05 0 2.83L4 21.41c.39.39.9.59 1.41.59.51 0 1.02-.2 1.41-.59l7.78-7.78 2.81-2.81c.8-.78.8-2.07 0-2.86zM5.41 20L4 18.59l7.72-7.72 1.47 1.35L5.41 20z\"/>\n",
              "  </svg>\n",
              "      </button>\n",
              "      \n",
              "  <style>\n",
              "    .colab-df-container {\n",
              "      display:flex;\n",
              "      flex-wrap:wrap;\n",
              "      gap: 12px;\n",
              "    }\n",
              "\n",
              "    .colab-df-convert {\n",
              "      background-color: #E8F0FE;\n",
              "      border: none;\n",
              "      border-radius: 50%;\n",
              "      cursor: pointer;\n",
              "      display: none;\n",
              "      fill: #1967D2;\n",
              "      height: 32px;\n",
              "      padding: 0 0 0 0;\n",
              "      width: 32px;\n",
              "    }\n",
              "\n",
              "    .colab-df-convert:hover {\n",
              "      background-color: #E2EBFA;\n",
              "      box-shadow: 0px 1px 2px rgba(60, 64, 67, 0.3), 0px 1px 3px 1px rgba(60, 64, 67, 0.15);\n",
              "      fill: #174EA6;\n",
              "    }\n",
              "\n",
              "    [theme=dark] .colab-df-convert {\n",
              "      background-color: #3B4455;\n",
              "      fill: #D2E3FC;\n",
              "    }\n",
              "\n",
              "    [theme=dark] .colab-df-convert:hover {\n",
              "      background-color: #434B5C;\n",
              "      box-shadow: 0px 1px 3px 1px rgba(0, 0, 0, 0.15);\n",
              "      filter: drop-shadow(0px 1px 2px rgba(0, 0, 0, 0.3));\n",
              "      fill: #FFFFFF;\n",
              "    }\n",
              "  </style>\n",
              "\n",
              "      <script>\n",
              "        const buttonEl =\n",
              "          document.querySelector('#df-3376d7e9-6bc5-4db4-9bad-5bab9399bc22 button.colab-df-convert');\n",
              "        buttonEl.style.display =\n",
              "          google.colab.kernel.accessAllowed ? 'block' : 'none';\n",
              "\n",
              "        async function convertToInteractive(key) {\n",
              "          const element = document.querySelector('#df-3376d7e9-6bc5-4db4-9bad-5bab9399bc22');\n",
              "          const dataTable =\n",
              "            await google.colab.kernel.invokeFunction('convertToInteractive',\n",
              "                                                     [key], {});\n",
              "          if (!dataTable) return;\n",
              "\n",
              "          const docLinkHtml = 'Like what you see? Visit the ' +\n",
              "            '<a target=\"_blank\" href=https://colab.research.google.com/notebooks/data_table.ipynb>data table notebook</a>'\n",
              "            + ' to learn more about interactive tables.';\n",
              "          element.innerHTML = '';\n",
              "          dataTable['output_type'] = 'display_data';\n",
              "          await google.colab.output.renderOutput(dataTable, element);\n",
              "          const docLink = document.createElement('div');\n",
              "          docLink.innerHTML = docLinkHtml;\n",
              "          element.appendChild(docLink);\n",
              "        }\n",
              "      </script>\n",
              "    </div>\n",
              "  </div>\n",
              "  "
            ]
          },
          "metadata": {},
          "execution_count": 30
        }
      ]
    },
    {
      "cell_type": "code",
      "source": [
        "import pandas as pd\n",
        "import numpy as np\n",
        "\n",
        "import stellargraph as sg\n",
        "from stellargraph.mapper import PaddedGraphGenerator\n",
        "from stellargraph.layer import GCNSupervisedGraphClassification\n",
        "from stellargraph import StellarGraph\n",
        "\n",
        "from stellargraph import datasets\n",
        "\n",
        "from sklearn import model_selection\n",
        "from IPython.display import display, HTML\n",
        "\n",
        "from tensorflow.keras import Model\n",
        "from tensorflow.keras.optimizers import Adam\n",
        "from tensorflow.keras.layers import Dense\n",
        "from tensorflow.keras.losses import binary_crossentropy\n",
        "from tensorflow.keras.callbacks import EarlyStopping\n",
        "import tensorflow as tf\n",
        "import matplotlib.pyplot as plt"
      ],
      "metadata": {
        "id": "_Fr-oW1JFcve"
      },
      "execution_count": 59,
      "outputs": []
    },
    {
      "cell_type": "code",
      "source": [
        "generator = PaddedGraphGenerator(graphs=graphs)"
      ],
      "metadata": {
        "id": "ezuDbVpvFc3a"
      },
      "execution_count": 60,
      "outputs": []
    },
    {
      "cell_type": "code",
      "source": [
        "def create_graph_classification_model(generator):\n",
        "    gc_model = GCNSupervisedGraphClassification(\n",
        "        layer_sizes=[64, 64],\n",
        "        activations=[\"relu\", \"relu\"],\n",
        "        generator=generator,\n",
        "        dropout=0.5,\n",
        "    )\n",
        "    x_inp, x_out = gc_model.in_out_tensors()\n",
        "    predictions = Dense(units=32, activation=\"relu\")(x_out)\n",
        "    predictions = Dense(units=16, activation=\"relu\")(predictions)\n",
        "    predictions = Dense(units=1, activation=\"sigmoid\")(predictions)\n",
        "\n",
        "    # Let's create the Keras model and prepare it for training\n",
        "    model = Model(inputs=x_inp, outputs=predictions)\n",
        "    model.compile(optimizer=Adam(0.005), loss=binary_crossentropy, metrics=[\"acc\"])\n",
        "\n",
        "    return model"
      ],
      "metadata": {
        "id": "csIr3wCjFc67"
      },
      "execution_count": 61,
      "outputs": []
    },
    {
      "cell_type": "code",
      "source": [
        "epochs = 200  # maximum number of training epochs\n",
        "folds = 3  # the number of folds for k-fold cross validation\n",
        "n_repeats = 3  # the number of repeats for repeated k-fold cross validation"
      ],
      "metadata": {
        "id": "LzuBkLriEC-k"
      },
      "execution_count": 67,
      "outputs": []
    },
    {
      "cell_type": "code",
      "source": [
        "es = EarlyStopping(\n",
        "    monitor=\"val_loss\", min_delta=0, patience=25, restore_best_weights=True\n",
        ")"
      ],
      "metadata": {
        "id": "rfmsam-FHQl-"
      },
      "execution_count": 68,
      "outputs": []
    },
    {
      "cell_type": "code",
      "source": [
        "def train_fold(model, train_gen, test_gen, es, epochs):\n",
        "    history = model.fit(\n",
        "        train_gen, epochs=epochs, validation_data=test_gen, verbose=0, callbacks=[es],\n",
        "    )\n",
        "    # calculate performance on the test data and return along with history\n",
        "    test_metrics = model.evaluate(test_gen, verbose=1)\n",
        "    test_acc = test_metrics[model.metrics_names.index(\"acc\")]\n",
        "\n",
        "    return history, test_acc"
      ],
      "metadata": {
        "id": "-CE9cVWlHQo2"
      },
      "execution_count": 71,
      "outputs": []
    },
    {
      "cell_type": "code",
      "source": [
        "def get_generators(train_index, test_index, graph_labels, batch_size):\n",
        "    train_gen = generator.flow(\n",
        "        train_index, targets=graph_labels.iloc[train_index].values, batch_size=batch_size\n",
        "    )\n",
        "    test_gen = generator.flow(\n",
        "        test_index, targets=graph_labels.iloc[test_index].values, batch_size=batch_size\n",
        "    )\n",
        "\n",
        "    return train_gen, test_gen"
      ],
      "metadata": {
        "id": "Nj4rTKhFHQrZ"
      },
      "execution_count": 72,
      "outputs": []
    },
    {
      "cell_type": "code",
      "source": [
        "test_accs = []\n",
        "\n",
        "stratified_folds = model_selection.RepeatedStratifiedKFold(\n",
        "    n_splits=folds, n_repeats=n_repeats\n",
        ").split(graph_labels, graph_labels)\n",
        "\n",
        "for i, (train_index, test_index) in enumerate(stratified_folds):\n",
        "    print(f\"Training and evaluating on fold {i+1} out of {folds * n_repeats}...\")\n",
        "    train_gen, test_gen = get_generators(\n",
        "        train_index, test_index, graph_labels, batch_size=2\n",
        "    )\n",
        "\n",
        "    model = create_graph_classification_model(generator)\n",
        "\n",
        "    history, acc = train_fold(model, train_gen, test_gen, es, epochs)\n",
        "\n",
        "    test_accs.append(acc)"
      ],
      "metadata": {
        "colab": {
          "base_uri": "https://localhost:8080/"
        },
        "id": "CHf-v0ngHQt-",
        "outputId": "db3b2138-bedd-4f23-9252-7ead8d126dfd"
      },
      "execution_count": 73,
      "outputs": [
        {
          "output_type": "stream",
          "name": "stderr",
          "text": [
            "/usr/local/lib/python3.8/dist-packages/sklearn/model_selection/_split.py:700: UserWarning: The least populated class in y has only 2 members, which is less than n_splits=3.\n",
            "  warnings.warn(\n"
          ]
        },
        {
          "output_type": "stream",
          "name": "stdout",
          "text": [
            "Training and evaluating on fold 1 out of 9...\n",
            "1/1 [==============================] - 0s 46ms/step - loss: 0.6931 - acc: 0.5000\n",
            "Training and evaluating on fold 2 out of 9...\n",
            "1/1 [==============================] - 0s 42ms/step - loss: 0.7257 - acc: 0.5000\n",
            "Training and evaluating on fold 3 out of 9...\n",
            "1/1 [==============================] - 0s 42ms/step - loss: 0.6316 - acc: 1.0000\n",
            "Training and evaluating on fold 4 out of 9...\n"
          ]
        },
        {
          "output_type": "stream",
          "name": "stderr",
          "text": [
            "/usr/local/lib/python3.8/dist-packages/sklearn/model_selection/_split.py:700: UserWarning: The least populated class in y has only 2 members, which is less than n_splits=3.\n",
            "  warnings.warn(\n"
          ]
        },
        {
          "output_type": "stream",
          "name": "stdout",
          "text": [
            "1/1 [==============================] - 0s 45ms/step - loss: 0.7029 - acc: 0.5000\n",
            "Training and evaluating on fold 5 out of 9...\n",
            "1/1 [==============================] - 0s 37ms/step - loss: 0.6977 - acc: 0.5000\n",
            "Training and evaluating on fold 6 out of 9...\n",
            "1/1 [==============================] - 0s 37ms/step - loss: 0.6219 - acc: 1.0000\n",
            "Training and evaluating on fold 7 out of 9...\n"
          ]
        },
        {
          "output_type": "stream",
          "name": "stderr",
          "text": [
            "/usr/local/lib/python3.8/dist-packages/sklearn/model_selection/_split.py:700: UserWarning: The least populated class in y has only 2 members, which is less than n_splits=3.\n",
            "  warnings.warn(\n"
          ]
        },
        {
          "output_type": "stream",
          "name": "stdout",
          "text": [
            "1/1 [==============================] - 0s 42ms/step - loss: 0.7123 - acc: 0.5000\n",
            "Training and evaluating on fold 8 out of 9...\n",
            "1/1 [==============================] - 0s 45ms/step - loss: 0.7023 - acc: 0.5000\n",
            "Training and evaluating on fold 9 out of 9...\n",
            "1/1 [==============================] - 0s 41ms/step - loss: 0.6555 - acc: 1.0000\n"
          ]
        }
      ]
    },
    {
      "cell_type": "code",
      "source": [
        "print(\n",
        "    f\"Accuracy over all folds mean: {np.mean(test_accs)*100:.3}% and std: {np.std(test_accs)*100:.2}%\"\n",
        ")"
      ],
      "metadata": {
        "colab": {
          "base_uri": "https://localhost:8080/"
        },
        "id": "93PY55e6HQxV",
        "outputId": "7d24201c-6b19-4c41-cad3-2d7dc5941c33"
      },
      "execution_count": 74,
      "outputs": [
        {
          "output_type": "stream",
          "name": "stdout",
          "text": [
            "Accuracy over all folds mean: 66.7% and std: 2.4e+01%\n"
          ]
        }
      ]
    },
    {
      "cell_type": "code",
      "source": [],
      "metadata": {
        "id": "Od7w5PuSrvg7"
      },
      "execution_count": null,
      "outputs": []
    },
    {
      "cell_type": "code",
      "source": [],
      "metadata": {
        "id": "MxzOBs_qLi6t"
      },
      "execution_count": null,
      "outputs": []
    },
    {
      "cell_type": "code",
      "source": [],
      "metadata": {
        "id": "A06RTU_CLi9j"
      },
      "execution_count": null,
      "outputs": []
    },
    {
      "cell_type": "code",
      "source": [],
      "metadata": {
        "id": "CkdzbAL6LjAb"
      },
      "execution_count": null,
      "outputs": []
    },
    {
      "cell_type": "code",
      "source": [],
      "metadata": {
        "id": "zAG6sdL-LjD2"
      },
      "execution_count": null,
      "outputs": []
    },
    {
      "cell_type": "code",
      "execution_count": null,
      "metadata": {
        "id": "VehhQrtZRoAY"
      },
      "outputs": [],
      "source": [
        "import networkx as nx\n",
        "\n",
        "# Load the adjacency matrices\n",
        "A = []\n",
        "#/graph1.gml\n",
        "for i in range(5):\n",
        "    filename = f\"/graph{i+1}.gml\"\n",
        "    #print(filename)\n",
        "    graph = nx.read_gml(filename)\n",
        "    #print(graph)\n",
        "    A.append(nx.adjacency_matrix(graph).todense())\n",
        "\n",
        "# Load the labels\n",
        "label = []\n",
        "with open(\"/labels.txt\") as f:\n",
        "    for line in f:\n",
        "        label.append(int(line.strip()))\n"
      ]
    },
    {
      "cell_type": "code",
      "execution_count": null,
      "metadata": {
        "id": "-SABge6eRoRf"
      },
      "outputs": [],
      "source": []
    },
    {
      "cell_type": "code",
      "source": [
        "import numpy as np\n",
        "import networkx as nx\n",
        "from stellargraph import StellarGraph\n",
        "\n",
        "# Define an adjacency matrix for an undirected graph\n",
        "adj_matrices =[A[0],A[1],A[2],A[3],A[4]]\n",
        "print(adj_matrices[0])\n",
        "graphs = []\n",
        "node_features = {i: np.array([1.0, 1.0, 1.0], dtype=np.float32) for i in range(adj_matrices[0].shape[0])}\n",
        "\n",
        "# Create a StellarGraph object for each adjacency matrix\n",
        "for adj_matrix in adj_matrices:\n",
        "    nodes = {i: {\"feature\": f\"feature {i}\"} for i in range(adj_matrix.shape[0])}\n",
        "    node_features = {node_id: np.array([1.0, 1.0, 1.0], dtype=np.float32) for node_id in nodes.keys()}\n",
        "\n",
        "    edges = [(i, j, float(adj_matrix[i, j])) for i in nodes for j in nodes if adj_matrix[i, j] == 1]\n",
        "\n",
        "    nx_graph = nx.Graph()\n",
        "    nx_graph.add_nodes_from(nodes)\n",
        "    nx_graph.add_weighted_edges_from(edges)\n",
        "\n",
        "    graph = StellarGraph.from_networkx(nx_graph, node_features=node_features)\n",
        "    print(graph.node_features())\n",
        "\n",
        "    graphs.append(graph)\n",
        "\n",
        "\n",
        "# for i, adj_matrix in enumerate(adj_matrices):\n",
        "#     nodes = {i: {\"feature\": f\"feature {i}\"} for i in range(adj_matrix.shape[0])}\n",
        "#     #node_features = {node_id: np.array([1.0, 1.0, 1.0], dtype=np.float32) for node_id in range(adj_matrix.shape[0])}\n",
        "\n",
        "#     edges = [(i, j, float(adj_matrix[i, j])) for i in nodes for j in nodes if adj_matrix[i, j] == 1]\n",
        "#     #print(edges)\n",
        "#     nx_graph = nx.Graph()\n",
        "#     nx_graph.add_nodes_from(nodes)\n",
        "#     nx_graph.add_weighted_edges_from(edges)\n",
        "#    # nx_graph.add_edges_from(edges)\n",
        "#     node_feature = {node_id: {\"dummy_feature\": 1} for node_id in nodes}\n",
        "#     #print(node_features)\n",
        "# # Convert the NetworkX graph to a StellarGraph object\n",
        "#     graph = StellarGraph.from_networkx(nx_graph, node_features=node_feature)\n",
        "#     print(graph.node_features())\n",
        "#     graph_labels = [0, 1,1,0,1]\n",
        "#     #graph.set_name(f\"Graph{i+1}\")\n",
        "#     graphs.append(graph)\n",
        "#graphs\n",
        "#print(node_features)"
      ],
      "metadata": {
        "colab": {
          "base_uri": "https://localhost:8080/"
        },
        "id": "V86JK0zH9XAt",
        "outputId": "7427fb16-ddba-42b5-caac-e367baf5da4b"
      },
      "execution_count": null,
      "outputs": [
        {
          "output_type": "stream",
          "name": "stdout",
          "text": [
            "[[0.00000e+00 0.00000e+00 0.00000e+00 ... 0.00000e+00 0.00000e+00\n",
            "  0.00000e+00]\n",
            " [0.00000e+00 0.00000e+00 0.00000e+00 ... 1.00000e+00 0.00000e+00\n",
            "  0.00000e+00]\n",
            " [0.00000e+00 0.00000e+00 0.00000e+00 ... 0.00000e+00 0.00000e+00\n",
            "  0.00000e+00]\n",
            " ...\n",
            " [0.00000e+00 1.00000e+00 0.00000e+00 ... 0.00000e+00 7.69000e+03\n",
            "  8.73590e+04]\n",
            " [0.00000e+00 0.00000e+00 0.00000e+00 ... 7.69000e+03 0.00000e+00\n",
            "  4.50382e+05]\n",
            " [0.00000e+00 0.00000e+00 0.00000e+00 ... 8.73590e+04 4.50382e+05\n",
            "  0.00000e+00]]\n"
          ]
        }
      ]
    }
  ],
  "metadata": {
    "accelerator": "GPU",
    "colab": {
      "provenance": []
    },
    "gpuClass": "premium",
    "kernelspec": {
      "display_name": "Python 3",
      "name": "python3"
    },
    "language_info": {
      "name": "python"
    }
  },
  "nbformat": 4,
  "nbformat_minor": 0
}